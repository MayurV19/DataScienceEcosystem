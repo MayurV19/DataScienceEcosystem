{
 "cells": [
  {
   "cell_type": "markdown",
   "id": "048a7b60-fbbc-4aa5-855b-f6fcc0148ace",
   "metadata": {},
   "source": [
    "<center>\n",
    "    <img src=\"https://cf-courses-data.s3.us.cloud-object-storage.appdomain.cloud/IBMDeveloperSkillsNetwork-DS0105EN-SkillsNetwork/labs/Module2/images/SN_web_lightmode.png\" width=\"300\" alt=\"cognitiveclass.ai logo\">\n",
    "</center>\n"
   ]
  },
  {
   "cell_type": "markdown",
   "id": "6068a8bf-330a-4728-9bd7-059493ad6a76",
   "metadata": {},
   "source": [
    "# Data Science Tools and Ecosystem"
   ]
  },
  {
   "cell_type": "markdown",
   "id": "57df9c58-2607-4077-82c2-2d5e90df84aa",
   "metadata": {},
   "source": [
    "In this Notebook, Data Science Tools and Ecosystem are summarized."
   ]
  },
  {
   "cell_type": "markdown",
   "id": "c6c4f0aa-480f-4477-b03d-844e64637e17",
   "metadata": {},
   "source": [
    "Some of the popular languages that Data Scientists use are:\n",
    "1. Python\n",
    "2. R\n",
    "3. SQL\n",
    "4. Java"
   ]
  },
  {
   "cell_type": "markdown",
   "id": "5c83d765-246d-4c1a-bc29-678dca101e5c",
   "metadata": {},
   "source": [
    "Some of the commonly used libraries used by Data Scientists include:\n",
    "1. Pandas\n",
    "2. NumPy\n",
    "3. ggplot2\n",
    "4. scikit\n",
    "5. matplotlib"
   ]
  },
  {
   "cell_type": "markdown",
   "id": "e6eb00f9-ab3a-48f0-ae52-c91806dcc9d2",
   "metadata": {},
   "source": [
    "| Data Science Tools |\n",
    "|--------------------|\n",
    "|       Jupyter      |\n",
    "|     JupyterLab     |\n",
    "|       RStudio      |\n",
    "|       Spyder       |"
   ]
  },
  {
   "cell_type": "markdown",
   "id": "a4a9cb53-a41f-41a8-bbc2-31f6964013e2",
   "metadata": {},
   "source": [
    "### Below are a few examples of evaluating arithmetic expressions in Python."
   ]
  },
  {
   "cell_type": "code",
   "execution_count": 3,
   "id": "0fc2f5ac-73a7-4b63-ade1-9550df4d2166",
   "metadata": {
    "tags": []
   },
   "outputs": [
    {
     "data": {
      "text/plain": [
       "17"
      ]
     },
     "execution_count": 3,
     "metadata": {},
     "output_type": "execute_result"
    }
   ],
   "source": [
    "# This is a simple arithmetic expression to multiply then add integers\n",
    "(3*4)+5"
   ]
  },
  {
   "cell_type": "code",
   "execution_count": 4,
   "id": "d815c314-7834-47c0-bf9b-9fcb5d7e2772",
   "metadata": {
    "tags": []
   },
   "outputs": [
    {
     "data": {
      "text/plain": [
       "3.3333333333333335"
      ]
     },
     "execution_count": 4,
     "metadata": {},
     "output_type": "execute_result"
    }
   ],
   "source": [
    "# This will convert 200 minutes into hours by dividing by 60\n",
    "200 / 60"
   ]
  },
  {
   "cell_type": "markdown",
   "id": "7573d08b-a28f-441d-86db-339587192d8b",
   "metadata": {},
   "source": [
    "**Objectives:**\n",
    "* List popular languages for Data Science\n",
    "* List popular libraries used by Data Scientists\n",
    "* Create markdown and code cells to demonstrate skills in Jupyter Notebook\n",
    "* Perform some arithmetic operations with appropriate commentary"
   ]
  },
  {
   "cell_type": "markdown",
   "id": "2095bf59-0016-4f6a-bfb7-246016be1e41",
   "metadata": {},
   "source": [
    "## Author\n",
    "Mayur V"
   ]
  }
 ],
 "metadata": {
  "kernelspec": {
   "display_name": "Python 3 (ipykernel)",
   "language": "python",
   "name": "python3"
  },
  "language_info": {
   "codemirror_mode": {
    "name": "ipython",
    "version": 3
   },
   "file_extension": ".py",
   "mimetype": "text/x-python",
   "name": "python",
   "nbconvert_exporter": "python",
   "pygments_lexer": "ipython3",
   "version": "3.9.12"
  }
 },
 "nbformat": 4,
 "nbformat_minor": 5
}
